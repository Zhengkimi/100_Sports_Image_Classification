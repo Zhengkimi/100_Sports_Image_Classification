{
 "cells": [
  {
   "cell_type": "code",
   "execution_count": 1,
   "id": "3a51d37f",
   "metadata": {},
   "outputs": [],
   "source": [
    "import pickle\n",
    "import numpy as np\n",
    "import pandas as pd\n",
    "from itertools import combinations\n",
    "from torch.utils.data import Dataset\n",
    "import torchvision.transforms as transforms\n",
    "import torchvision.datasets as datasets\n",
    "import torch\n",
    "import os\n",
    "\n",
    "\n",
    "\n",
    "class SingleFolderDataset(Dataset):\n",
    "    def __init__(self, folder_path, transform=None):\n",
    "        self.folder_path = folder_path\n",
    "        self.image_list = os.listdir(folder_path)\n",
    "        self.transform = transform\n",
    "\n",
    "    def __len__(self):\n",
    "        return len(self.image_list)\n",
    "\n",
    "    def __getitem__(self, idx):\n",
    "        img_name = os.path.join(self.folder_path, self.image_list[idx])\n",
    "        image = Image.open(img_name).convert('RGB')\n",
    "        \n",
    "        if self.transform:\n",
    "            image = self.transform(image)\n",
    "\n",
    "        return image\n",
    "\n",
    "pd.set_option(\"display.max_rows\",1000000000)"
   ]
  },
  {
   "cell_type": "code",
   "execution_count": 2,
   "id": "5053954f",
   "metadata": {},
   "outputs": [],
   "source": [
    "# Load efficient net model\n",
    "with open('prob_efficient.pickle', 'rb') as f:\n",
    "    eff_prob = pickle.load(f)\n",
    "\n",
    "name_eff = ['B0', 'B1', 'B2', 'B3', 'B4', 'B5']\n",
    "\n",
    "prob_eff = []\n",
    "for i in range(eff_prob.shape[0]):\n",
    "    prob_eff.append(eff_prob[i])"
   ]
  },
  {
   "cell_type": "code",
   "execution_count": 3,
   "id": "c86b1874",
   "metadata": {},
   "outputs": [],
   "source": [
    "# Load res50 and yolov8\n",
    "valid_transform = transforms.Compose([\n",
    "    transforms.Resize((224, 224)),\n",
    "    transforms.ToTensor(),\n",
    "])\n",
    "\n",
    "test_dataset = SingleFolderDataset('test', transform=valid_transform)\n",
    "\n",
    "test_num = list()\n",
    "for file_name in test_dataset.image_list:\n",
    "    test_num.append(int(file_name.split('.')[0]))\n",
    "test_indices = sorted(range(len(test_num)), key=lambda k: test_num[k])\n",
    "\n",
    "\n",
    "with open(\"yolov8-prob-vector\", 'rb') as file:\n",
    "    yoloV = pickle.load(file)\n",
    "\n",
    "yoloV = yoloV.cpu().numpy()[test_indices,:]"
   ]
  },
  {
   "cell_type": "code",
   "execution_count": 4,
   "id": "bc06a2f0",
   "metadata": {},
   "outputs": [],
   "source": [
    "def essemble_comb(comb_indx,\n",
    "                  name_list,\n",
    "                  prob_list):\n",
    "    cm_n = len(comb_indx)\n",
    "    index_name = name_list[comb_indx[0]]\n",
    "    for k in range(1,cm_n):\n",
    "        index_name = index_name + name_list[comb_indx[k]]\n",
    "    comb_prob = []\n",
    "    for k in range(cm_n):\n",
    "        comb_prob.append(prob_list[comb_indx[k]])\n",
    "    comb_prob = np.array(comb_prob)\n",
    "    comb_prob_label = pd.DataFrame(comb_prob.mean(axis=0).argmax(axis=1), columns=['Category'])\n",
    "    ID = pd.DataFrame(np.arange(500), columns=['ID'])\n",
    "    out_csv = pd.concat([ID, comb_prob_label], axis=1)\n",
    "    print(\"Essemble model: \"+index_name)\n",
    "    out_csv.to_csv(\"team_6_submission.csv\", index=False)"
   ]
  },
  {
   "cell_type": "code",
   "execution_count": 5,
   "id": "0b19300e",
   "metadata": {},
   "outputs": [
    {
     "name": "stdout",
     "output_type": "stream",
     "text": [
      "Essemble model: B2B3yolov8\n"
     ]
    }
   ],
   "source": [
    "name_list = ['B0', 'B1', 'B2', 'B3', 'B4', 'B5', 'yolov8']\n",
    "prob_list = prob_eff\n",
    "prob_list.append(yoloV)\n",
    "essemble_comb([2,3,6],name_list,prob_list)"
   ]
  }
 ],
 "metadata": {
  "kernelspec": {
   "display_name": "Python 3 (ipykernel)",
   "language": "python",
   "name": "python3"
  },
  "language_info": {
   "codemirror_mode": {
    "name": "ipython",
    "version": 3
   },
   "file_extension": ".py",
   "mimetype": "text/x-python",
   "name": "python",
   "nbconvert_exporter": "python",
   "pygments_lexer": "ipython3",
   "version": "3.11.5"
  }
 },
 "nbformat": 4,
 "nbformat_minor": 5
}
